{
 "cells": [
  {
   "cell_type": "code",
   "source": [
    "from tensorflow import keras\n",
    "import keras"
   ],
   "metadata": {
    "collapsed": false,
    "ExecuteTime": {
     "end_time": "2024-04-15T10:18:55.445805Z",
     "start_time": "2024-04-15T10:18:47.279912Z"
    }
   },
   "id": "b5b4cbb1df340e1c",
   "outputs": [],
   "execution_count": 1
  },
  {
   "cell_type": "code",
   "source": [
    "from keras.datasets import mnist\n",
    "import numpy as np\n",
    " \n",
    "#TODO load MNIST data set\n",
    "(train_images, train_labels), (test_images, test_labels) = mnist.load_data()"
   ],
   "metadata": {
    "collapsed": false,
    "ExecuteTime": {
     "end_time": "2024-04-15T10:18:55.715322Z",
     "start_time": "2024-04-15T10:18:55.445805Z"
    }
   },
   "id": "7b082fa9372875cc",
   "outputs": [],
   "execution_count": 2
  },
  {
   "cell_type": "code",
   "source": [
    "train_images = train_images.astype('float32') / 255.0\n",
    "train_images = train_images.reshape((len(train_images), np.prod(train_images.shape[1:])))\n",
    " \n",
    "#TODO Prepare the test samples as above\n",
    "test_images = test_images.astype('float32') / 255.0\n",
    "test_images = test_images.reshape((len(test_images), np.prod(test_images.shape[1:])))"
   ],
   "metadata": {
    "collapsed": false,
    "ExecuteTime": {
     "end_time": "2024-04-15T10:24:42.160762Z",
     "start_time": "2024-04-15T10:24:41.586970Z"
    }
   },
   "id": "34318692cda8c450",
   "outputs": [],
   "execution_count": 10
  },
  {
   "cell_type": "code",
   "source": [
    "from tensorflow.keras.layers import Input, Dense\n",
    "from tensorflow.keras.models import Model\n",
    " \n",
    "# this is the size of our encoded representations\n",
    "encoding_dim = 32  # 32 floats -> compression of factor 24.5, assuming the input is 784 floats\n",
    " \n",
    "# this is our input placeholder\n",
    "input_img = Input(shape=(784,))\n",
    " \n",
    "# \"encoded\" is the encoded representation of the input\n",
    "encoded = Dense(encoding_dim, activation='relu')(input_img)\n",
    " \n",
    "# \"decoded\" is the lossy reconstruction of the input\n",
    "decoded = Dense(784, activation='sigmoid')(encoded)\n",
    " \n",
    "# this model maps an input to its reconstruction\n",
    "autoencoder = Model(input_img, decoded)"
   ],
   "metadata": {
    "collapsed": false,
    "ExecuteTime": {
     "end_time": "2024-04-15T10:18:56.734931Z",
     "start_time": "2024-04-15T10:18:56.553699Z"
    }
   },
   "id": "857c22f72bf079d0",
   "outputs": [],
   "execution_count": 4
  },
  {
   "cell_type": "code",
   "source": [
    "# this model maps an input to its encoded representation\n",
    "encoder = Model(input_img, encoded)\n",
    " \n",
    "# create a placeholder for an encoded (32-dimensional) input\n",
    "encoded_input = Input(shape=(encoding_dim,))\n",
    " \n",
    "# retrieve the last layer of the autoencoder model\n",
    "decoder_layer = autoencoder.layers[-1]\n",
    " \n",
    "# create the decoder model\n",
    "decoder = Model(encoded_input, decoder_layer(encoded_input))"
   ],
   "metadata": {
    "collapsed": false,
    "ExecuteTime": {
     "end_time": "2024-04-15T10:18:56.766363Z",
     "start_time": "2024-04-15T10:18:56.734931Z"
    }
   },
   "id": "58246683fcfe4ebb",
   "outputs": [],
   "execution_count": 5
  },
  {
   "cell_type": "code",
   "source": [
    "#TODO configure the model to use a binary crossentropy loss and the Adam optimizer:\n",
    "autoencoder.compile(optimizer = 'Adam',\n",
    "                    loss = 'binary_crossentropy',\n",
    "                    metrics=['accuracy'])\n",
    " \n",
    "#TODO complete fit(). As a starting point set epoch to 50, batch size to 256, shuffle data, and use x_test as a validation set.\n",
    "#Later You can experiment with those values\n",
    "autoencoder.fit(train_images, train_images, \n",
    "                epochs=50, \n",
    "                batch_size=256,\n",
    "                shuffle=True,\n",
    "                validation_data = (test_images,test_images))\n",
    " \n",
    "# encode and decode some digits\n",
    "# note that we take them from the *test* set\n",
    "encoded_imgs = encoder.predict(test_images)\n",
    "decoded_imgs = decoder.predict(encoded_imgs)\n"
   ],
   "metadata": {
    "collapsed": false,
    "ExecuteTime": {
     "end_time": "2024-04-15T10:25:56.443239Z",
     "start_time": "2024-04-15T10:24:52.295982Z"
    }
   },
   "id": "7697b099f26fb97e",
   "outputs": [
    {
     "name": "stdout",
     "output_type": "stream",
     "text": [
      "Epoch 1/50\n",
      "\u001B[1m235/235\u001B[0m \u001B[32m━━━━━━━━━━━━━━━━━━━━\u001B[0m\u001B[37m\u001B[0m \u001B[1m3s\u001B[0m 9ms/step - accuracy: 0.0000e+00 - loss: 0.0081 - val_accuracy: 0.0000e+00 - val_loss: 0.0043\n",
      "Epoch 2/50\n",
      "\u001B[1m235/235\u001B[0m \u001B[32m━━━━━━━━━━━━━━━━━━━━\u001B[0m\u001B[37m\u001B[0m \u001B[1m2s\u001B[0m 7ms/step - accuracy: 0.0135 - loss: 0.0041 - val_accuracy: 0.0168 - val_loss: 0.0041\n",
      "Epoch 3/50\n",
      "\u001B[1m235/235\u001B[0m \u001B[32m━━━━━━━━━━━━━━━━━━━━\u001B[0m\u001B[37m\u001B[0m \u001B[1m2s\u001B[0m 8ms/step - accuracy: 0.0181 - loss: 0.0040 - val_accuracy: 0.0196 - val_loss: 0.0041\n",
      "Epoch 4/50\n",
      "\u001B[1m235/235\u001B[0m \u001B[32m━━━━━━━━━━━━━━━━━━━━\u001B[0m\u001B[37m\u001B[0m \u001B[1m2s\u001B[0m 6ms/step - accuracy: 0.0203 - loss: 0.0040 - val_accuracy: 0.0195 - val_loss: 0.0041\n",
      "Epoch 5/50\n",
      "\u001B[1m235/235\u001B[0m \u001B[32m━━━━━━━━━━━━━━━━━━━━\u001B[0m\u001B[37m\u001B[0m \u001B[1m1s\u001B[0m 6ms/step - accuracy: 0.0191 - loss: 0.0040 - val_accuracy: 0.0194 - val_loss: 0.0040\n",
      "Epoch 6/50\n",
      "\u001B[1m235/235\u001B[0m \u001B[32m━━━━━━━━━━━━━━━━━━━━\u001B[0m\u001B[37m\u001B[0m \u001B[1m1s\u001B[0m 6ms/step - accuracy: 0.0198 - loss: 0.0040 - val_accuracy: 0.0212 - val_loss: 0.0040\n",
      "Epoch 7/50\n",
      "\u001B[1m235/235\u001B[0m \u001B[32m━━━━━━━━━━━━━━━━━━━━\u001B[0m\u001B[37m\u001B[0m \u001B[1m1s\u001B[0m 5ms/step - accuracy: 0.0206 - loss: 0.0040 - val_accuracy: 0.0188 - val_loss: 0.0040\n",
      "Epoch 8/50\n",
      "\u001B[1m235/235\u001B[0m \u001B[32m━━━━━━━━━━━━━━━━━━━━\u001B[0m\u001B[37m\u001B[0m \u001B[1m1s\u001B[0m 5ms/step - accuracy: 0.0187 - loss: 0.0040 - val_accuracy: 0.0106 - val_loss: 0.0040\n",
      "Epoch 9/50\n",
      "\u001B[1m235/235\u001B[0m \u001B[32m━━━━━━━━━━━━━━━━━━━━\u001B[0m\u001B[37m\u001B[0m \u001B[1m1s\u001B[0m 5ms/step - accuracy: 0.0160 - loss: 0.0040 - val_accuracy: 0.0216 - val_loss: 0.0040\n",
      "Epoch 10/50\n",
      "\u001B[1m235/235\u001B[0m \u001B[32m━━━━━━━━━━━━━━━━━━━━\u001B[0m\u001B[37m\u001B[0m \u001B[1m1s\u001B[0m 5ms/step - accuracy: 0.0190 - loss: 0.0040 - val_accuracy: 0.0207 - val_loss: 0.0040\n",
      "Epoch 11/50\n",
      "\u001B[1m235/235\u001B[0m \u001B[32m━━━━━━━━━━━━━━━━━━━━\u001B[0m\u001B[37m\u001B[0m \u001B[1m1s\u001B[0m 5ms/step - accuracy: 0.0187 - loss: 0.0040 - val_accuracy: 0.0183 - val_loss: 0.0040\n",
      "Epoch 12/50\n",
      "\u001B[1m235/235\u001B[0m \u001B[32m━━━━━━━━━━━━━━━━━━━━\u001B[0m\u001B[37m\u001B[0m \u001B[1m1s\u001B[0m 5ms/step - accuracy: 0.0193 - loss: 0.0040 - val_accuracy: 0.0175 - val_loss: 0.0040\n",
      "Epoch 13/50\n",
      "\u001B[1m235/235\u001B[0m \u001B[32m━━━━━━━━━━━━━━━━━━━━\u001B[0m\u001B[37m\u001B[0m \u001B[1m1s\u001B[0m 5ms/step - accuracy: 0.0191 - loss: 0.0040 - val_accuracy: 0.0164 - val_loss: 0.0040\n",
      "Epoch 14/50\n",
      "\u001B[1m235/235\u001B[0m \u001B[32m━━━━━━━━━━━━━━━━━━━━\u001B[0m\u001B[37m\u001B[0m \u001B[1m1s\u001B[0m 5ms/step - accuracy: 0.0194 - loss: 0.0040 - val_accuracy: 0.0211 - val_loss: 0.0040\n",
      "Epoch 15/50\n",
      "\u001B[1m235/235\u001B[0m \u001B[32m━━━━━━━━━━━━━━━━━━━━\u001B[0m\u001B[37m\u001B[0m \u001B[1m1s\u001B[0m 5ms/step - accuracy: 0.0171 - loss: 0.0039 - val_accuracy: 0.0208 - val_loss: 0.0040\n",
      "Epoch 16/50\n",
      "\u001B[1m235/235\u001B[0m \u001B[32m━━━━━━━━━━━━━━━━━━━━\u001B[0m\u001B[37m\u001B[0m \u001B[1m1s\u001B[0m 5ms/step - accuracy: 0.0180 - loss: 0.0039 - val_accuracy: 0.0186 - val_loss: 0.0040\n",
      "Epoch 17/50\n",
      "\u001B[1m235/235\u001B[0m \u001B[32m━━━━━━━━━━━━━━━━━━━━\u001B[0m\u001B[37m\u001B[0m \u001B[1m1s\u001B[0m 5ms/step - accuracy: 0.0171 - loss: 0.0039 - val_accuracy: 0.0209 - val_loss: 0.0040\n",
      "Epoch 18/50\n",
      "\u001B[1m235/235\u001B[0m \u001B[32m━━━━━━━━━━━━━━━━━━━━\u001B[0m\u001B[37m\u001B[0m \u001B[1m1s\u001B[0m 5ms/step - accuracy: 0.0179 - loss: 0.0039 - val_accuracy: 0.0202 - val_loss: 0.0040\n",
      "Epoch 19/50\n",
      "\u001B[1m235/235\u001B[0m \u001B[32m━━━━━━━━━━━━━━━━━━━━\u001B[0m\u001B[37m\u001B[0m \u001B[1m1s\u001B[0m 5ms/step - accuracy: 0.0170 - loss: 0.0039 - val_accuracy: 0.0160 - val_loss: 0.0040\n",
      "Epoch 20/50\n",
      "\u001B[1m235/235\u001B[0m \u001B[32m━━━━━━━━━━━━━━━━━━━━\u001B[0m\u001B[37m\u001B[0m \u001B[1m1s\u001B[0m 5ms/step - accuracy: 0.0173 - loss: 0.0039 - val_accuracy: 0.0167 - val_loss: 0.0040\n",
      "Epoch 21/50\n",
      "\u001B[1m235/235\u001B[0m \u001B[32m━━━━━━━━━━━━━━━━━━━━\u001B[0m\u001B[37m\u001B[0m \u001B[1m1s\u001B[0m 5ms/step - accuracy: 0.0170 - loss: 0.0039 - val_accuracy: 0.0139 - val_loss: 0.0040\n",
      "Epoch 22/50\n",
      "\u001B[1m235/235\u001B[0m \u001B[32m━━━━━━━━━━━━━━━━━━━━\u001B[0m\u001B[37m\u001B[0m \u001B[1m1s\u001B[0m 5ms/step - accuracy: 0.0163 - loss: 0.0039 - val_accuracy: 0.0156 - val_loss: 0.0040\n",
      "Epoch 23/50\n",
      "\u001B[1m235/235\u001B[0m \u001B[32m━━━━━━━━━━━━━━━━━━━━\u001B[0m\u001B[37m\u001B[0m \u001B[1m1s\u001B[0m 5ms/step - accuracy: 0.0161 - loss: 0.0039 - val_accuracy: 0.0184 - val_loss: 0.0040\n",
      "Epoch 24/50\n",
      "\u001B[1m235/235\u001B[0m \u001B[32m━━━━━━━━━━━━━━━━━━━━\u001B[0m\u001B[37m\u001B[0m \u001B[1m1s\u001B[0m 5ms/step - accuracy: 0.0157 - loss: 0.0039 - val_accuracy: 0.0157 - val_loss: 0.0040\n",
      "Epoch 25/50\n",
      "\u001B[1m235/235\u001B[0m \u001B[32m━━━━━━━━━━━━━━━━━━━━\u001B[0m\u001B[37m\u001B[0m \u001B[1m1s\u001B[0m 5ms/step - accuracy: 0.0154 - loss: 0.0039 - val_accuracy: 0.0167 - val_loss: 0.0040\n",
      "Epoch 26/50\n",
      "\u001B[1m235/235\u001B[0m \u001B[32m━━━━━━━━━━━━━━━━━━━━\u001B[0m\u001B[37m\u001B[0m \u001B[1m1s\u001B[0m 5ms/step - accuracy: 0.0151 - loss: 0.0039 - val_accuracy: 0.0155 - val_loss: 0.0040\n",
      "Epoch 27/50\n",
      "\u001B[1m235/235\u001B[0m \u001B[32m━━━━━━━━━━━━━━━━━━━━\u001B[0m\u001B[37m\u001B[0m \u001B[1m1s\u001B[0m 5ms/step - accuracy: 0.0146 - loss: 0.0039 - val_accuracy: 0.0165 - val_loss: 0.0040\n",
      "Epoch 28/50\n",
      "\u001B[1m235/235\u001B[0m \u001B[32m━━━━━━━━━━━━━━━━━━━━\u001B[0m\u001B[37m\u001B[0m \u001B[1m1s\u001B[0m 5ms/step - accuracy: 0.0148 - loss: 0.0039 - val_accuracy: 0.0161 - val_loss: 0.0039\n",
      "Epoch 29/50\n",
      "\u001B[1m235/235\u001B[0m \u001B[32m━━━━━━━━━━━━━━━━━━━━\u001B[0m\u001B[37m\u001B[0m \u001B[1m1s\u001B[0m 5ms/step - accuracy: 0.0147 - loss: 0.0039 - val_accuracy: 0.0140 - val_loss: 0.0039\n",
      "Epoch 30/50\n",
      "\u001B[1m235/235\u001B[0m \u001B[32m━━━━━━━━━━━━━━━━━━━━\u001B[0m\u001B[37m\u001B[0m \u001B[1m1s\u001B[0m 5ms/step - accuracy: 0.0140 - loss: 0.0039 - val_accuracy: 0.0156 - val_loss: 0.0039\n",
      "Epoch 31/50\n",
      "\u001B[1m235/235\u001B[0m \u001B[32m━━━━━━━━━━━━━━━━━━━━\u001B[0m\u001B[37m\u001B[0m \u001B[1m1s\u001B[0m 5ms/step - accuracy: 0.0150 - loss: 0.0039 - val_accuracy: 0.0144 - val_loss: 0.0039\n",
      "Epoch 32/50\n",
      "\u001B[1m235/235\u001B[0m \u001B[32m━━━━━━━━━━━━━━━━━━━━\u001B[0m\u001B[37m\u001B[0m \u001B[1m1s\u001B[0m 5ms/step - accuracy: 0.0142 - loss: 0.0039 - val_accuracy: 0.0138 - val_loss: 0.0039\n",
      "Epoch 33/50\n",
      "\u001B[1m235/235\u001B[0m \u001B[32m━━━━━━━━━━━━━━━━━━━━\u001B[0m\u001B[37m\u001B[0m \u001B[1m1s\u001B[0m 5ms/step - accuracy: 0.0149 - loss: 0.0039 - val_accuracy: 0.0141 - val_loss: 0.0039\n",
      "Epoch 34/50\n",
      "\u001B[1m235/235\u001B[0m \u001B[32m━━━━━━━━━━━━━━━━━━━━\u001B[0m\u001B[37m\u001B[0m \u001B[1m1s\u001B[0m 5ms/step - accuracy: 0.0151 - loss: 0.0039 - val_accuracy: 0.0171 - val_loss: 0.0039\n",
      "Epoch 35/50\n",
      "\u001B[1m235/235\u001B[0m \u001B[32m━━━━━━━━━━━━━━━━━━━━\u001B[0m\u001B[37m\u001B[0m \u001B[1m1s\u001B[0m 5ms/step - accuracy: 0.0156 - loss: 0.0039 - val_accuracy: 0.0140 - val_loss: 0.0039\n",
      "Epoch 36/50\n",
      "\u001B[1m235/235\u001B[0m \u001B[32m━━━━━━━━━━━━━━━━━━━━\u001B[0m\u001B[37m\u001B[0m \u001B[1m1s\u001B[0m 5ms/step - accuracy: 0.0146 - loss: 0.0038 - val_accuracy: 0.0166 - val_loss: 0.0039\n",
      "Epoch 37/50\n",
      "\u001B[1m235/235\u001B[0m \u001B[32m━━━━━━━━━━━━━━━━━━━━\u001B[0m\u001B[37m\u001B[0m \u001B[1m1s\u001B[0m 5ms/step - accuracy: 0.0167 - loss: 0.0038 - val_accuracy: 0.0172 - val_loss: 0.0039\n",
      "Epoch 38/50\n",
      "\u001B[1m235/235\u001B[0m \u001B[32m━━━━━━━━━━━━━━━━━━━━\u001B[0m\u001B[37m\u001B[0m \u001B[1m1s\u001B[0m 5ms/step - accuracy: 0.0147 - loss: 0.0038 - val_accuracy: 0.0165 - val_loss: 0.0039\n",
      "Epoch 39/50\n",
      "\u001B[1m235/235\u001B[0m \u001B[32m━━━━━━━━━━━━━━━━━━━━\u001B[0m\u001B[37m\u001B[0m \u001B[1m1s\u001B[0m 5ms/step - accuracy: 0.0159 - loss: 0.0038 - val_accuracy: 0.0141 - val_loss: 0.0039\n",
      "Epoch 40/50\n",
      "\u001B[1m235/235\u001B[0m \u001B[32m━━━━━━━━━━━━━━━━━━━━\u001B[0m\u001B[37m\u001B[0m \u001B[1m1s\u001B[0m 5ms/step - accuracy: 0.0143 - loss: 0.0038 - val_accuracy: 0.0144 - val_loss: 0.0039\n",
      "Epoch 41/50\n",
      "\u001B[1m235/235\u001B[0m \u001B[32m━━━━━━━━━━━━━━━━━━━━\u001B[0m\u001B[37m\u001B[0m \u001B[1m1s\u001B[0m 5ms/step - accuracy: 0.0146 - loss: 0.0038 - val_accuracy: 0.0123 - val_loss: 0.0039\n",
      "Epoch 42/50\n",
      "\u001B[1m235/235\u001B[0m \u001B[32m━━━━━━━━━━━━━━━━━━━━\u001B[0m\u001B[37m\u001B[0m \u001B[1m1s\u001B[0m 5ms/step - accuracy: 0.0142 - loss: 0.0038 - val_accuracy: 0.0162 - val_loss: 0.0039\n",
      "Epoch 43/50\n",
      "\u001B[1m235/235\u001B[0m \u001B[32m━━━━━━━━━━━━━━━━━━━━\u001B[0m\u001B[37m\u001B[0m \u001B[1m1s\u001B[0m 5ms/step - accuracy: 0.0161 - loss: 0.0038 - val_accuracy: 0.0137 - val_loss: 0.0039\n",
      "Epoch 44/50\n",
      "\u001B[1m235/235\u001B[0m \u001B[32m━━━━━━━━━━━━━━━━━━━━\u001B[0m\u001B[37m\u001B[0m \u001B[1m1s\u001B[0m 6ms/step - accuracy: 0.0144 - loss: 0.0038 - val_accuracy: 0.0145 - val_loss: 0.0039\n",
      "Epoch 45/50\n",
      "\u001B[1m235/235\u001B[0m \u001B[32m━━━━━━━━━━━━━━━━━━━━\u001B[0m\u001B[37m\u001B[0m \u001B[1m1s\u001B[0m 5ms/step - accuracy: 0.0141 - loss: 0.0038 - val_accuracy: 0.0167 - val_loss: 0.0039\n",
      "Epoch 46/50\n",
      "\u001B[1m235/235\u001B[0m \u001B[32m━━━━━━━━━━━━━━━━━━━━\u001B[0m\u001B[37m\u001B[0m \u001B[1m1s\u001B[0m 5ms/step - accuracy: 0.0151 - loss: 0.0038 - val_accuracy: 0.0163 - val_loss: 0.0039\n",
      "Epoch 47/50\n",
      "\u001B[1m235/235\u001B[0m \u001B[32m━━━━━━━━━━━━━━━━━━━━\u001B[0m\u001B[37m\u001B[0m \u001B[1m1s\u001B[0m 5ms/step - accuracy: 0.0151 - loss: 0.0038 - val_accuracy: 0.0156 - val_loss: 0.0039\n",
      "Epoch 48/50\n",
      "\u001B[1m235/235\u001B[0m \u001B[32m━━━━━━━━━━━━━━━━━━━━\u001B[0m\u001B[37m\u001B[0m \u001B[1m1s\u001B[0m 5ms/step - accuracy: 0.0140 - loss: 0.0038 - val_accuracy: 0.0130 - val_loss: 0.0039\n",
      "Epoch 49/50\n",
      "\u001B[1m235/235\u001B[0m \u001B[32m━━━━━━━━━━━━━━━━━━━━\u001B[0m\u001B[37m\u001B[0m \u001B[1m1s\u001B[0m 5ms/step - accuracy: 0.0129 - loss: 0.0038 - val_accuracy: 0.0135 - val_loss: 0.0038\n",
      "Epoch 50/50\n",
      "\u001B[1m235/235\u001B[0m \u001B[32m━━━━━━━━━━━━━━━━━━━━\u001B[0m\u001B[37m\u001B[0m \u001B[1m1s\u001B[0m 5ms/step - accuracy: 0.0125 - loss: 0.0038 - val_accuracy: 0.0123 - val_loss: 0.0038\n",
      "\u001B[1m313/313\u001B[0m \u001B[32m━━━━━━━━━━━━━━━━━━━━\u001B[0m\u001B[37m\u001B[0m \u001B[1m0s\u001B[0m 813us/step\n",
      "\u001B[1m313/313\u001B[0m \u001B[32m━━━━━━━━━━━━━━━━━━━━\u001B[0m\u001B[37m\u001B[0m \u001B[1m0s\u001B[0m 864us/step\n"
     ]
    }
   ],
   "execution_count": 11
  },
  {
   "cell_type": "code",
   "source": [
    "autoencoder.summary()"
   ],
   "metadata": {
    "collapsed": false,
    "ExecuteTime": {
     "end_time": "2024-04-15T10:20:12.395571Z",
     "start_time": "2024-04-15T10:20:12.312682Z"
    }
   },
   "id": "16857932ecc31820",
   "outputs": [
    {
     "data": {
      "text/plain": [
       "\u001B[1mModel: \"functional_1\"\u001B[0m\n"
      ],
      "text/html": [
       "<pre style=\"white-space:pre;overflow-x:auto;line-height:normal;font-family:Menlo,'DejaVu Sans Mono',consolas,'Courier New',monospace\"><span style=\"font-weight: bold\">Model: \"functional_1\"</span>\n",
       "</pre>\n"
      ]
     },
     "metadata": {},
     "output_type": "display_data"
    },
    {
     "data": {
      "text/plain": [
       "┏━━━━━━━━━━━━━━━━━━━━━━━━━━━━━━━━━┳━━━━━━━━━━━━━━━━━━━━━━━━┳━━━━━━━━━━━━━━━┓\n",
       "┃\u001B[1m \u001B[0m\u001B[1mLayer (type)                   \u001B[0m\u001B[1m \u001B[0m┃\u001B[1m \u001B[0m\u001B[1mOutput Shape          \u001B[0m\u001B[1m \u001B[0m┃\u001B[1m \u001B[0m\u001B[1m      Param #\u001B[0m\u001B[1m \u001B[0m┃\n",
       "┡━━━━━━━━━━━━━━━━━━━━━━━━━━━━━━━━━╇━━━━━━━━━━━━━━━━━━━━━━━━╇━━━━━━━━━━━━━━━┩\n",
       "│ input_layer (\u001B[38;5;33mInputLayer\u001B[0m)        │ (\u001B[38;5;45mNone\u001B[0m, \u001B[38;5;34m784\u001B[0m)            │             \u001B[38;5;34m0\u001B[0m │\n",
       "├─────────────────────────────────┼────────────────────────┼───────────────┤\n",
       "│ dense (\u001B[38;5;33mDense\u001B[0m)                   │ (\u001B[38;5;45mNone\u001B[0m, \u001B[38;5;34m32\u001B[0m)             │        \u001B[38;5;34m25,120\u001B[0m │\n",
       "├─────────────────────────────────┼────────────────────────┼───────────────┤\n",
       "│ dense_1 (\u001B[38;5;33mDense\u001B[0m)                 │ (\u001B[38;5;45mNone\u001B[0m, \u001B[38;5;34m784\u001B[0m)            │        \u001B[38;5;34m25,872\u001B[0m │\n",
       "└─────────────────────────────────┴────────────────────────┴───────────────┘\n"
      ],
      "text/html": [
       "<pre style=\"white-space:pre;overflow-x:auto;line-height:normal;font-family:Menlo,'DejaVu Sans Mono',consolas,'Courier New',monospace\">┏━━━━━━━━━━━━━━━━━━━━━━━━━━━━━━━━━┳━━━━━━━━━━━━━━━━━━━━━━━━┳━━━━━━━━━━━━━━━┓\n",
       "┃<span style=\"font-weight: bold\"> Layer (type)                    </span>┃<span style=\"font-weight: bold\"> Output Shape           </span>┃<span style=\"font-weight: bold\">       Param # </span>┃\n",
       "┡━━━━━━━━━━━━━━━━━━━━━━━━━━━━━━━━━╇━━━━━━━━━━━━━━━━━━━━━━━━╇━━━━━━━━━━━━━━━┩\n",
       "│ input_layer (<span style=\"color: #0087ff; text-decoration-color: #0087ff\">InputLayer</span>)        │ (<span style=\"color: #00d7ff; text-decoration-color: #00d7ff\">None</span>, <span style=\"color: #00af00; text-decoration-color: #00af00\">784</span>)            │             <span style=\"color: #00af00; text-decoration-color: #00af00\">0</span> │\n",
       "├─────────────────────────────────┼────────────────────────┼───────────────┤\n",
       "│ dense (<span style=\"color: #0087ff; text-decoration-color: #0087ff\">Dense</span>)                   │ (<span style=\"color: #00d7ff; text-decoration-color: #00d7ff\">None</span>, <span style=\"color: #00af00; text-decoration-color: #00af00\">32</span>)             │        <span style=\"color: #00af00; text-decoration-color: #00af00\">25,120</span> │\n",
       "├─────────────────────────────────┼────────────────────────┼───────────────┤\n",
       "│ dense_1 (<span style=\"color: #0087ff; text-decoration-color: #0087ff\">Dense</span>)                 │ (<span style=\"color: #00d7ff; text-decoration-color: #00d7ff\">None</span>, <span style=\"color: #00af00; text-decoration-color: #00af00\">784</span>)            │        <span style=\"color: #00af00; text-decoration-color: #00af00\">25,872</span> │\n",
       "└─────────────────────────────────┴────────────────────────┴───────────────┘\n",
       "</pre>\n"
      ]
     },
     "metadata": {},
     "output_type": "display_data"
    },
    {
     "data": {
      "text/plain": [
       "\u001B[1m Total params: \u001B[0m\u001B[38;5;34m152,978\u001B[0m (597.57 KB)\n"
      ],
      "text/html": [
       "<pre style=\"white-space:pre;overflow-x:auto;line-height:normal;font-family:Menlo,'DejaVu Sans Mono',consolas,'Courier New',monospace\"><span style=\"font-weight: bold\"> Total params: </span><span style=\"color: #00af00; text-decoration-color: #00af00\">152,978</span> (597.57 KB)\n",
       "</pre>\n"
      ]
     },
     "metadata": {},
     "output_type": "display_data"
    },
    {
     "data": {
      "text/plain": [
       "\u001B[1m Trainable params: \u001B[0m\u001B[38;5;34m50,992\u001B[0m (199.19 KB)\n"
      ],
      "text/html": [
       "<pre style=\"white-space:pre;overflow-x:auto;line-height:normal;font-family:Menlo,'DejaVu Sans Mono',consolas,'Courier New',monospace\"><span style=\"font-weight: bold\"> Trainable params: </span><span style=\"color: #00af00; text-decoration-color: #00af00\">50,992</span> (199.19 KB)\n",
       "</pre>\n"
      ]
     },
     "metadata": {},
     "output_type": "display_data"
    },
    {
     "data": {
      "text/plain": [
       "\u001B[1m Non-trainable params: \u001B[0m\u001B[38;5;34m0\u001B[0m (0.00 B)\n"
      ],
      "text/html": [
       "<pre style=\"white-space:pre;overflow-x:auto;line-height:normal;font-family:Menlo,'DejaVu Sans Mono',consolas,'Courier New',monospace\"><span style=\"font-weight: bold\"> Non-trainable params: </span><span style=\"color: #00af00; text-decoration-color: #00af00\">0</span> (0.00 B)\n",
       "</pre>\n"
      ]
     },
     "metadata": {},
     "output_type": "display_data"
    },
    {
     "data": {
      "text/plain": [
       "\u001B[1m Optimizer params: \u001B[0m\u001B[38;5;34m101,986\u001B[0m (398.39 KB)\n"
      ],
      "text/html": [
       "<pre style=\"white-space:pre;overflow-x:auto;line-height:normal;font-family:Menlo,'DejaVu Sans Mono',consolas,'Courier New',monospace\"><span style=\"font-weight: bold\"> Optimizer params: </span><span style=\"color: #00af00; text-decoration-color: #00af00\">101,986</span> (398.39 KB)\n",
       "</pre>\n"
      ]
     },
     "metadata": {},
     "output_type": "display_data"
    }
   ],
   "execution_count": 7
  },
  {
   "cell_type": "code",
   "source": [
    "import matplotlib.pyplot as plt\n",
    "\n",
    "n = 10\n",
    "plt.figure(figsize=(20, 4))\n",
    "\n",
    "for i in range(n):\n",
    "    ax = plt.subplot(2, n, i+1)\n",
    "    plt.imshow(test_images[i].reshape(28, 28))\n",
    "    plt.gray()\n",
    "    ax.get_xaxis().set_visible(False)\n",
    "    ax.get_yaxis().set_visible(False)\n",
    "\n",
    "    ax = plt.subplot(2, n, i+n+1)\n",
    "    plt.imshow(decoded_imgs[i].reshape(28, 28))\n",
    "    plt.gray()\n",
    "    ax.get_xaxis().set_visible(False)\n",
    "    ax.get_yaxis().set_visible(False)\n",
    "    \n",
    "plt.show()"
   ],
   "metadata": {
    "collapsed": false,
    "ExecuteTime": {
     "end_time": "2024-04-15T10:29:24.051393Z",
     "start_time": "2024-04-15T10:29:22.592116Z"
    }
   },
   "id": "efec1143710338cb",
   "outputs": [
    {
     "data": {
      "text/plain": [
       "<Figure size 2000x400 with 20 Axes>"
      ],
      "image/png": "[encoded data removed]"
     },
     "metadata": {},
     "output_type": "display_data"
    }
   ],
   "execution_count": 13
  },
  {
   "cell_type": "markdown",
   "source": [
    "CONVOLUTIONAL AUTOENCODER"
   ],
   "metadata": {
    "collapsed": false
   },
   "id": "1e938fdf55556a84"
  },
  {
   "cell_type": "code",
   "source": [
    "from tensorflow.keras.datasets import mnist\n",
    "import numpy as np\n",
    " \n",
    "#TODO load MNIST data set and convert it to [0,1] range like before.\n",
    "(x_train, _), (x_test, _) =\n",
    " \n",
    "x_train = \n",
    "x_train = np.reshape(x_train, (len(x_train), 28, 28, 1))\n",
    " \n",
    "#TODO Prepare the test samples as above\n",
    "x_test =\n",
    "x_test ="
   ],
   "metadata": {
    "collapsed": false,
    "ExecuteTime": {
     "end_time": "2024-04-15T10:20:13.511769Z",
     "start_time": "2024-04-15T10:20:13.496011Z"
    }
   },
   "id": "c10d1ba8079735c5",
   "outputs": [
    {
     "ename": "SyntaxError",
     "evalue": "invalid syntax (336225151.py, line 5)",
     "output_type": "error",
     "traceback": [
      "\u001B[1;36m  Cell \u001B[1;32mIn[9], line 5\u001B[1;36m\u001B[0m\n\u001B[1;33m    (x_train, _), (x_test, _) =\u001B[0m\n\u001B[1;37m                               ^\u001B[0m\n\u001B[1;31mSyntaxError\u001B[0m\u001B[1;31m:\u001B[0m invalid syntax\n"
     ]
    }
   ],
   "execution_count": 9
  },
  {
   "cell_type": "code",
   "source": [
    "from tensorflow.keras.layers import Input, Dense, Conv2D, MaxPooling2D, UpSampling2D\n",
    "from tensorflow.keras.models import Model\n",
    "from tensorflow.keras import backend as K\n",
    " \n",
    "input_img = Input(shape=(28, 28, 1))  # adapt this if using `channels_first` image data format\n",
    " \n",
    "x = Conv2D(16, (3, 3), activation='relu', padding='same')(input_img)\n",
    "x = MaxPooling2D((2, 2), padding='same')(x)\n",
    "x = Conv2D(8, (3, 3), activation='relu', padding='same')(x)\n",
    "x = MaxPooling2D((2, 2), padding='same')(x)\n",
    "x = Conv2D(8, (3, 3), activation='relu', padding='same')(x)\n",
    "encoded = MaxPooling2D((2, 2), padding='same')(x)\n",
    " \n",
    "# at this point the representation is (4, 4, 8) i.e. 128-dimensional\n",
    " \n",
    "x = Conv2D(8, (3, 3), activation='relu', padding='same')(encoded)\n",
    "x = UpSampling2D((2, 2))(x)\n",
    "x = Conv2D(8, (3, 3), activation='relu', padding='same')(x)\n",
    "x = UpSampling2D((2, 2))(x)\n",
    "x = Conv2D(16, (3, 3), activation='relu')(x)\n",
    "x = UpSampling2D((2, 2))(x)\n",
    "decoded = Conv2D(1, (3, 3), activation='sigmoid', padding='same')(x)\n",
    " \n",
    "autoencoder = Model(input_img, decoded)\n",
    "#TODO configure model to use a binary crossentropy loss, and the Adam optimizer:\n",
    " \n",
    "autoencoder.compile(#TODO)\n",
    "#TODO complete fit(). Set epoch to 10, batch size to 128, shuffle data, and use x_test as a validation set.\n",
    "#You can experiment with those values. If training takes a lot of time, try to reduce the number of epochs (but monitor loss value).\n",
    " \n",
    "autoencoder.fit(x_train, x_train, #TODO)\n",
    " \n",
    "decoded_imgs = autoencoder.predict(x_test)"
   ],
   "metadata": {
    "collapsed": false,
    "ExecuteTime": {
     "end_time": "2024-04-15T10:20:13.511769Z",
     "start_time": "2024-04-15T10:20:13.511769Z"
    }
   },
   "id": "d9d30fc74455a4af",
   "outputs": [],
   "execution_count": null
  }
 ],
 "metadata": {
  "kernelspec": {
   "display_name": "Python 3",
   "language": "python",
   "name": "python3"
  },
  "language_info": {
   "codemirror_mode": {
    "name": "ipython",
    "version": 2
   },
   "file_extension": ".py",
   "mimetype": "text/x-python",
   "name": "python",
   "nbconvert_exporter": "python",
   "pygments_lexer": "ipython2",
   "version": "2.7.6"
  }
 },
 "nbformat": 4,
 "nbformat_minor": 5
}
